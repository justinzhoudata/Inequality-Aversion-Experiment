{
 "cells": [
  {
   "cell_type": "code",
   "execution_count": 2,
   "metadata": {},
   "outputs": [
    {
     "name": "stdout",
     "output_type": "stream",
     "text": [
      "/home/justinzhou/BE\n"
     ]
    }
   ],
   "source": [
    "import os\n",
    "import pandas as pd\n",
    "import numpy as np\n",
    "from scipy import stats\n",
    "import pandas as pd\n",
    "\n",
    "os.chdir(os.path.expanduser(\"~\"))\n",
    "# Had trouble getting the working directory - this fixed it\n",
    "os.chdir(os.path.join(os.getcwd(), \"BE\"))\n",
    " \n",
    "print(os.getcwd())\n",
    "\n",
    "# Read the CSV file into a pandas dataframe\n",
    "exp1 = pd.read_csv('experiment.csv')\n",
    "exp2 = pd.read_csv('updateddata.csv')"
   ]
  },
  {
   "cell_type": "code",
   "execution_count": 3,
   "metadata": {},
   "outputs": [
    {
     "name": "stdout",
     "output_type": "stream",
     "text": [
      "<class 'pandas.core.frame.DataFrame'>\n",
      "RangeIndex: 105 entries, 0 to 104\n",
      "Data columns (total 5 columns):\n",
      " #   Column            Non-Null Count  Dtype  \n",
      "---  ------            --------------  -----  \n",
      " 0   duration          105 non-null    int64  \n",
      " 1   control_leader    52 non-null     float64\n",
      " 2   control_follower  52 non-null     float64\n",
      " 3   title_leader      53 non-null     float64\n",
      " 4   title_follower    53 non-null     float64\n",
      "dtypes: float64(4), int64(1)\n",
      "memory usage: 4.2 KB\n"
     ]
    }
   ],
   "source": [
    "exp1.info()  # Check for missing values and variable types"
   ]
  },
  {
   "cell_type": "code",
   "execution_count": 4,
   "metadata": {},
   "outputs": [
    {
     "name": "stdout",
     "output_type": "stream",
     "text": [
      "<class 'pandas.core.frame.DataFrame'>\n",
      "RangeIndex: 100 entries, 0 to 99\n",
      "Data columns (total 5 columns):\n",
      " #   Column             Non-Null Count  Dtype  \n",
      "---  ------             --------------  -----  \n",
      " 0   duration           100 non-null    int64  \n",
      " 1   morework_leader    50 non-null     float64\n",
      " 2   morework_follower  50 non-null     float64\n",
      " 3   lesswork_leader    50 non-null     float64\n",
      " 4   lesswork_follower  50 non-null     float64\n",
      "dtypes: float64(4), int64(1)\n",
      "memory usage: 4.0 KB\n"
     ]
    }
   ],
   "source": [
    "exp2.info()  # Check for missing values and variable types"
   ]
  },
  {
   "cell_type": "code",
   "execution_count": 5,
   "metadata": {},
   "outputs": [],
   "source": [
    "#exp1\n",
    "\n",
    "# Split based on NaN values in the first two columns\n",
    "treatmentdf = exp1[exp1['control_leader'].isna() & exp1['control_follower'].isna()]\n",
    "treatmentdf = treatmentdf.dropna(axis=1)\n",
    "\n",
    "# Rename columns\n",
    "treatmentdf = treatmentdf.rename(columns={'title_leader': 'leader', 'title_follower': 'follower'})\n",
    "\n",
    "\n",
    "\n",
    "# Split based on NaN values in the last two columns\n",
    "controldf = exp1[exp1['title_leader'].isna() & exp1['title_follower'].isna()]\n",
    "controldf = controldf.dropna(axis=1)\n",
    "\n",
    "# Rename columns\n",
    "controldf = controldf.rename(columns={'control_leader': 'leader', 'control_follower': 'follower'})\n"
   ]
  },
  {
   "cell_type": "code",
   "execution_count": 6,
   "metadata": {},
   "outputs": [],
   "source": [
    "#exp2\n",
    "\n",
    "# Split based on NaN values in the first two columns\n",
    "lessworkdf = exp2[exp2['morework_leader'].isna() & exp2['morework_follower'].isna()]\n",
    "lessworkdf = lessworkdf.dropna(axis=1)\n",
    "\n",
    "\n",
    "# Rename columns\n",
    "lessworkdf = lessworkdf.rename(columns={'lesswork_leader': 'leader', 'lesswork_follower': 'follower'})\n",
    "\n",
    "# Split based on NaN values in the last two columns\n",
    "moreworkdf = exp2[exp2['lesswork_leader'].isna() & exp2['lesswork_follower'].isna()]\n",
    "moreworkdf = moreworkdf.dropna(axis=1)\n",
    "\n",
    "# Rename columns\n",
    "moreworkdf = moreworkdf.rename(columns={'morework_leader': 'leader', 'morework_follower': 'follower'})\n"
   ]
  },
  {
   "cell_type": "code",
   "execution_count": 7,
   "metadata": {},
   "outputs": [
    {
     "name": "stdout",
     "output_type": "stream",
     "text": [
      "0.8965947363441791\n"
     ]
    }
   ],
   "source": [
    "#compare control means vs. adding the \"leader/follower\" title (LEADER)\n",
    "\n",
    "leader_treatment = treatmentdf[\"leader\"]\n",
    "leader_control = controldf[\"leader\"]\n",
    "t_statistic, p_value = stats.ttest_ind(leader_treatment, leader_control)\n",
    "print(p_value)"
   ]
  },
  {
   "cell_type": "code",
   "execution_count": 8,
   "metadata": {},
   "outputs": [
    {
     "name": "stdout",
     "output_type": "stream",
     "text": [
      "0.5960022867296004\n"
     ]
    }
   ],
   "source": [
    "#compare control means vs. adding the \"leader/follower\" title (FOLLOWER)\n",
    "\n",
    "follower_treatment = treatmentdf[\"follower\"]\n",
    "follower_control = controldf[\"follower\"]\n",
    "t_statistic, p_value = stats.ttest_ind(follower_treatment, follower_control)\n",
    "print(p_value)"
   ]
  },
  {
   "cell_type": "code",
   "execution_count": 9,
   "metadata": {},
   "outputs": [
    {
     "name": "stdout",
     "output_type": "stream",
     "text": [
      "0.0405169960401369\n"
     ]
    }
   ],
   "source": [
    "#compare the \"leader/follower\" title vs. the \"leader/follower\" title with more work (LEADER)\n",
    "\n",
    "leader_treatment = treatmentdf[\"leader\"]\n",
    "leader_morework = moreworkdf[\"leader\"]\n",
    "t_statistic, p_value = stats.ttest_ind(leader_treatment, leader_morework)\n",
    "print(p_value)"
   ]
  },
  {
   "cell_type": "code",
   "execution_count": 10,
   "metadata": {},
   "outputs": [
    {
     "name": "stdout",
     "output_type": "stream",
     "text": [
      "0.00012796705095488158\n"
     ]
    }
   ],
   "source": [
    "#compare the \"leader/follower\" title vs. the \"leader/follower\" title with more work (FOLLOWER)\n",
    "follower_treatment = treatmentdf[\"follower\"]\n",
    "follower_morework = moreworkdf[\"follower\"]\n",
    "t_statistic, p_value = stats.ttest_ind(follower_treatment, follower_morework)\n",
    "print(p_value)"
   ]
  },
  {
   "cell_type": "code",
   "execution_count": 11,
   "metadata": {},
   "outputs": [
    {
     "name": "stdout",
     "output_type": "stream",
     "text": [
      "1.8821995966492164e-06\n"
     ]
    }
   ],
   "source": [
    "#compare the \"leader/follower\" title vs. the \"leader/follower\" title with less work (LEADER)\n",
    "leader_treatment = treatmentdf[\"leader\"]\n",
    "leader_lesswork = lessworkdf[\"leader\"]\n",
    "t_statistic, p_value = stats.ttest_ind(leader_treatment, leader_lesswork)\n",
    "print(p_value)"
   ]
  },
  {
   "cell_type": "code",
   "execution_count": 12,
   "metadata": {},
   "outputs": [
    {
     "name": "stdout",
     "output_type": "stream",
     "text": [
      "0.35427642458911524\n"
     ]
    }
   ],
   "source": [
    "#compare the \"leader/follower\" title vs. the \"leader/follower\" title with less work (FOLLOWER)\n",
    "follower_treatment = treatmentdf[\"follower\"]\n",
    "follower_lesswork = lessworkdf[\"follower\"]\n",
    "\n",
    "t_statistic, p_value = stats.ttest_ind(follower_treatment, follower_lesswork)\n",
    "\n",
    "print(p_value)"
   ]
  },
  {
   "cell_type": "code",
   "execution_count": 13,
   "metadata": {},
   "outputs": [
    {
     "data": {
      "image/png": "[encoded data removed]",
      "text/plain": [
       "<Figure size 864x576 with 6 Axes>"
      ]
     },
     "metadata": {
      "needs_background": "light"
     },
     "output_type": "display_data"
    }
   ],
   "source": [
    "import matplotlib.pyplot as plt\n",
    "\n",
    "# Create a two by three grid of subplots\n",
    "fig, axs = plt.subplots(2, 3, figsize=(12, 8))\n",
    "\n",
    "# Histogram for follower values in treatmentdf\n",
    "axs[0, 0].hist(treatmentdf['follower'], bins=15, edgecolor='black')\n",
    "axs[0, 0].set_xlabel('Follower Values')\n",
    "axs[0, 0].set_ylabel('Frequency')\n",
    "axs[0, 0].set_title('Follower Values in Control Group')\n",
    "\n",
    "# Histogram for follower values in moreworkdf\n",
    "axs[0, 1].hist(moreworkdf['follower'], bins=15, edgecolor='black')\n",
    "axs[0, 1].set_xlabel('Follower Values')\n",
    "axs[0, 1].set_ylabel('Frequency')\n",
    "axs[0, 1].set_title('Follower Values in Treatment 1')\n",
    "\n",
    "# Histogram for follower values in lessworkdf\n",
    "axs[0, 2].hist(lessworkdf['follower'], bins=15, edgecolor='black')\n",
    "axs[0, 2].set_xlabel('Follower Values')\n",
    "axs[0, 2].set_ylabel('Frequency')\n",
    "axs[0, 2].set_title('Follower Values in Treatment 2')\n",
    "\n",
    "# Histogram for leader values in treatmentdf\n",
    "axs[1, 0].hist(treatmentdf['leader'], bins=15, edgecolor='black')\n",
    "axs[1, 0].set_xlabel('Leader Values')\n",
    "axs[1, 0].set_ylabel('Frequency')\n",
    "axs[1, 0].set_title('Leader Values in Control Group')\n",
    "\n",
    "# Histogram for leader values in moreworkdf\n",
    "axs[1, 1].hist(moreworkdf['leader'], bins=15, edgecolor='black')\n",
    "axs[1, 1].set_xlabel('Leader Values')\n",
    "axs[1, 1].set_ylabel('Frequency')\n",
    "axs[1, 1].set_title('Leader Values in Treatment 1')\n",
    "\n",
    "# Histogram for leader values in lessworkdf\n",
    "axs[1, 2].hist(lessworkdf['leader'], bins=15, edgecolor='black')\n",
    "axs[1, 2].set_xlabel('Leader Values')\n",
    "axs[1, 2].set_ylabel('Frequency')\n",
    "axs[1, 2].set_title('Leader Values in Treatment 2')\n",
    "\n",
    "# Adjust spacing between subplots\n",
    "plt.tight_layout()\n",
    "\n",
    "# Display the plot\n",
    "plt.show()\n"
   ]
  },
  {
   "cell_type": "code",
   "execution_count": 14,
   "metadata": {},
   "outputs": [
    {
     "name": "stdout",
     "output_type": "stream",
     "text": [
      "Mean of Follower Responses:\n",
      "Control Group: 41.16981132075472\n",
      "Treatment 1 Group: 50.98\n",
      "Treatment 2 Group: 38.74\n",
      "\n",
      "Mean of Leader Responses:\n",
      "Control Group: 47.64150943396226\n",
      "Treatment 1 Group: 44.1\n",
      "Treatment 2 Group: 56.36\n"
     ]
    }
   ],
   "source": [
    "# Calculate the means of follower responses for each group\n",
    "treatmentdf_follower_mean = treatmentdf['follower'].mean()\n",
    "moreworkdf_follower_mean = moreworkdf['follower'].mean()\n",
    "lessworkdf_follower_mean = lessworkdf['follower'].mean()\n",
    "controldf_follower_mean = controldf['follower'].mean()\n",
    "\n",
    "# Calculate the means of leader responses for each group\n",
    "treatmentdf_leader_mean = treatmentdf['leader'].mean()\n",
    "moreworkdf_leader_mean = moreworkdf['leader'].mean()\n",
    "lessworkdf_leader_mean = lessworkdf['leader'].mean()\n",
    "controldf_leader_mean = controldf['leader'].mean()\n",
    "\n",
    "# Print the means of follower responses for each group\n",
    "print(\"Mean of Follower Responses:\")\n",
    "print(\"Control Group:\", treatmentdf_follower_mean)\n",
    "print(\"Treatment 1 Group:\", moreworkdf_follower_mean)\n",
    "print(\"Treatment 2 Group:\", lessworkdf_follower_mean)\n",
    "print()\n",
    "\n",
    "# Print the means of leader responses for each group\n",
    "print(\"Mean of Leader Responses:\")\n",
    "print(\"Control Group:\", treatmentdf_leader_mean)\n",
    "print(\"Treatment 1 Group:\", moreworkdf_leader_mean)\n",
    "print(\"Treatment 2 Group:\", lessworkdf_leader_mean)\n",
    "\n",
    "\n"
   ]
  },
  {
   "cell_type": "code",
   "execution_count": 15,
   "metadata": {},
   "outputs": [
    {
     "name": "stdout",
     "output_type": "stream",
     "text": [
      "                   Mean Follower Responses  Mean Leader Responses\n",
      "Group                                                            \n",
      "Control Group                    41.169811              47.641509\n",
      "Treatment 1 Group                50.980000              44.100000\n",
      "Treatment 2 Group                38.740000              56.360000\n"
     ]
    }
   ],
   "source": [
    "# Calculate the means of follower responses for each group\n",
    "treatmentdf_follower_mean = treatmentdf['follower'].mean()\n",
    "moreworkdf_follower_mean = moreworkdf['follower'].mean()\n",
    "lessworkdf_follower_mean = lessworkdf['follower'].mean()\n",
    "controldf_follower_mean = controldf['follower'].mean()\n",
    "\n",
    "# Calculate the means of leader responses for each group\n",
    "treatmentdf_leader_mean = treatmentdf['leader'].mean()\n",
    "moreworkdf_leader_mean = moreworkdf['leader'].mean()\n",
    "lessworkdf_leader_mean = lessworkdf['leader'].mean()\n",
    "controldf_leader_mean = controldf['leader'].mean()\n",
    "\n",
    "# Create a dictionary with the mean values for each group\n",
    "data = {\n",
    "    'Group': ['Control Group', 'Treatment 1 Group', 'Treatment 2 Group'],\n",
    "    'Mean Follower Responses': [treatmentdf_follower_mean, moreworkdf_follower_mean, lessworkdf_follower_mean],\n",
    "    'Mean Leader Responses': [treatmentdf_leader_mean, moreworkdf_leader_mean, lessworkdf_leader_mean]\n",
    "}\n",
    "\n",
    "# Create a pandas DataFrame from the dictionary\n",
    "df = pd.DataFrame(data)\n",
    "\n",
    "# Set the 'Group' column as the index\n",
    "df.set_index('Group', inplace=True)\n",
    "\n",
    "# Display the DataFrame\n",
    "print(df)\n"
   ]
  },
  {
   "cell_type": "code",
   "execution_count": 16,
   "metadata": {},
   "outputs": [
    {
     "data": {
      "image/png": "[encoded data removed]",
      "text/plain": [
       "<Figure size 576x432 with 1 Axes>"
      ]
     },
     "metadata": {
      "needs_background": "light"
     },
     "output_type": "display_data"
    },
    {
     "name": "stdout",
     "output_type": "stream",
     "text": [
      "Average Duration (Outliers Removed): 56.832432432432434\n"
     ]
    }
   ],
   "source": [
    "import matplotlib.pyplot as plt\n",
    "import numpy as np\n",
    "import pandas as pd\n",
    "\n",
    "# Concatenate the durations from both dataframes\n",
    "all_durations = np.concatenate([exp1['duration'], exp2['duration']])\n",
    "\n",
    "# Calculate the first quartile (Q1) and third quartile (Q3)\n",
    "Q1 = np.percentile(all_durations, 25)\n",
    "Q3 = np.percentile(all_durations, 75)\n",
    "\n",
    "# Calculate the interquartile range (IQR)\n",
    "IQR = Q3 - Q1\n",
    "\n",
    "# Define the lower and upper bounds to identify outliers\n",
    "lower_bound = Q1 - 1.5 * IQR\n",
    "upper_bound = Q3 + 1.5 * IQR\n",
    "\n",
    "# Remove outliers from the durations\n",
    "filtered_durations = all_durations[(all_durations >= lower_bound) & (all_durations <= upper_bound)]\n",
    "\n",
    "# Calculate the average duration after removing outliers\n",
    "average_duration = np.mean(filtered_durations)\n",
    "\n",
    "# Plot the histogram of filtered durations\n",
    "plt.figure(figsize=(8, 6))\n",
    "plt.hist(filtered_durations, bins=15, edgecolor='black')\n",
    "plt.xlabel('Duration')\n",
    "plt.ylabel('Frequency')\n",
    "plt.title('Histogram of Durations (Outliers Removed)')\n",
    "plt.show()\n",
    "\n",
    "# Print the average duration after removing outliers\n",
    "print(\"Average Duration (Outliers Removed):\", average_duration)\n"
   ]
  },
  {
   "cell_type": "code",
   "execution_count": null,
   "metadata": {},
   "outputs": [],
   "source": []
  },
  {
   "cell_type": "code",
   "execution_count": null,
   "metadata": {},
   "outputs": [],
   "source": []
  },
  {
   "cell_type": "code",
   "execution_count": 18,
   "metadata": {},
   "outputs": [
    {
     "data": {
      "text/html": [
       "<div>\n",
       "<style scoped>\n",
       "    .dataframe tbody tr th:only-of-type {\n",
       "        vertical-align: middle;\n",
       "    }\n",
       "\n",
       "    .dataframe tbody tr th {\n",
       "        vertical-align: top;\n",
       "    }\n",
       "\n",
       "    .dataframe thead th {\n",
       "        text-align: right;\n",
       "    }\n",
       "</style>\n",
       "<table border=\"1\" class=\"dataframe\">\n",
       "  <thead>\n",
       "    <tr style=\"text-align: right;\">\n",
       "      <th></th>\n",
       "      <th>duration</th>\n",
       "      <th>leader</th>\n",
       "      <th>follower</th>\n",
       "    </tr>\n",
       "  </thead>\n",
       "  <tbody>\n",
       "    <tr>\n",
       "      <th>count</th>\n",
       "      <td>53.000000</td>\n",
       "      <td>53.000000</td>\n",
       "      <td>53.000000</td>\n",
       "    </tr>\n",
       "    <tr>\n",
       "      <th>mean</th>\n",
       "      <td>74.415094</td>\n",
       "      <td>47.641509</td>\n",
       "      <td>41.169811</td>\n",
       "    </tr>\n",
       "    <tr>\n",
       "      <th>std</th>\n",
       "      <td>76.728902</td>\n",
       "      <td>7.808019</td>\n",
       "      <td>14.770990</td>\n",
       "    </tr>\n",
       "    <tr>\n",
       "      <th>min</th>\n",
       "      <td>29.000000</td>\n",
       "      <td>20.000000</td>\n",
       "      <td>1.000000</td>\n",
       "    </tr>\n",
       "    <tr>\n",
       "      <th>25%</th>\n",
       "      <td>42.000000</td>\n",
       "      <td>50.000000</td>\n",
       "      <td>40.000000</td>\n",
       "    </tr>\n",
       "    <tr>\n",
       "      <th>50%</th>\n",
       "      <td>52.000000</td>\n",
       "      <td>50.000000</td>\n",
       "      <td>40.000000</td>\n",
       "    </tr>\n",
       "    <tr>\n",
       "      <th>75%</th>\n",
       "      <td>67.000000</td>\n",
       "      <td>50.000000</td>\n",
       "      <td>50.000000</td>\n",
       "    </tr>\n",
       "    <tr>\n",
       "      <th>max</th>\n",
       "      <td>519.000000</td>\n",
       "      <td>70.000000</td>\n",
       "      <td>100.000000</td>\n",
       "    </tr>\n",
       "  </tbody>\n",
       "</table>\n",
       "</div>"
      ],
      "text/plain": [
       "         duration     leader    follower\n",
       "count   53.000000  53.000000   53.000000\n",
       "mean    74.415094  47.641509   41.169811\n",
       "std     76.728902   7.808019   14.770990\n",
       "min     29.000000  20.000000    1.000000\n",
       "25%     42.000000  50.000000   40.000000\n",
       "50%     52.000000  50.000000   40.000000\n",
       "75%     67.000000  50.000000   50.000000\n",
       "max    519.000000  70.000000  100.000000"
      ]
     },
     "execution_count": 18,
     "metadata": {},
     "output_type": "execute_result"
    }
   ],
   "source": [
    "treatmentdf.describe()"
   ]
  },
  {
   "cell_type": "code",
   "execution_count": 19,
   "metadata": {},
   "outputs": [
    {
     "data": {
      "text/html": [
       "<div>\n",
       "<style scoped>\n",
       "    .dataframe tbody tr th:only-of-type {\n",
       "        vertical-align: middle;\n",
       "    }\n",
       "\n",
       "    .dataframe tbody tr th {\n",
       "        vertical-align: top;\n",
       "    }\n",
       "\n",
       "    .dataframe thead th {\n",
       "        text-align: right;\n",
       "    }\n",
       "</style>\n",
       "<table border=\"1\" class=\"dataframe\">\n",
       "  <thead>\n",
       "    <tr style=\"text-align: right;\">\n",
       "      <th></th>\n",
       "      <th>duration</th>\n",
       "      <th>leader</th>\n",
       "      <th>follower</th>\n",
       "    </tr>\n",
       "  </thead>\n",
       "  <tbody>\n",
       "    <tr>\n",
       "      <th>count</th>\n",
       "      <td>52.000000</td>\n",
       "      <td>52.000000</td>\n",
       "      <td>52.000000</td>\n",
       "    </tr>\n",
       "    <tr>\n",
       "      <th>mean</th>\n",
       "      <td>65.711538</td>\n",
       "      <td>47.346154</td>\n",
       "      <td>42.884615</td>\n",
       "    </tr>\n",
       "    <tr>\n",
       "      <th>std</th>\n",
       "      <td>44.990342</td>\n",
       "      <td>14.500689</td>\n",
       "      <td>18.129873</td>\n",
       "    </tr>\n",
       "    <tr>\n",
       "      <th>min</th>\n",
       "      <td>11.000000</td>\n",
       "      <td>0.000000</td>\n",
       "      <td>5.000000</td>\n",
       "    </tr>\n",
       "    <tr>\n",
       "      <th>25%</th>\n",
       "      <td>39.750000</td>\n",
       "      <td>50.000000</td>\n",
       "      <td>36.750000</td>\n",
       "    </tr>\n",
       "    <tr>\n",
       "      <th>50%</th>\n",
       "      <td>53.000000</td>\n",
       "      <td>50.000000</td>\n",
       "      <td>40.000000</td>\n",
       "    </tr>\n",
       "    <tr>\n",
       "      <th>75%</th>\n",
       "      <td>75.500000</td>\n",
       "      <td>50.000000</td>\n",
       "      <td>50.000000</td>\n",
       "    </tr>\n",
       "    <tr>\n",
       "      <th>max</th>\n",
       "      <td>288.000000</td>\n",
       "      <td>100.000000</td>\n",
       "      <td>100.000000</td>\n",
       "    </tr>\n",
       "  </tbody>\n",
       "</table>\n",
       "</div>"
      ],
      "text/plain": [
       "         duration      leader    follower\n",
       "count   52.000000   52.000000   52.000000\n",
       "mean    65.711538   47.346154   42.884615\n",
       "std     44.990342   14.500689   18.129873\n",
       "min     11.000000    0.000000    5.000000\n",
       "25%     39.750000   50.000000   36.750000\n",
       "50%     53.000000   50.000000   40.000000\n",
       "75%     75.500000   50.000000   50.000000\n",
       "max    288.000000  100.000000  100.000000"
      ]
     },
     "execution_count": 19,
     "metadata": {},
     "output_type": "execute_result"
    }
   ],
   "source": [
    "controldf.describe()"
   ]
  },
  {
   "cell_type": "code",
   "execution_count": 22,
   "metadata": {},
   "outputs": [
    {
     "data": {
      "text/html": [
       "<div>\n",
       "<style scoped>\n",
       "    .dataframe tbody tr th:only-of-type {\n",
       "        vertical-align: middle;\n",
       "    }\n",
       "\n",
       "    .dataframe tbody tr th {\n",
       "        vertical-align: top;\n",
       "    }\n",
       "\n",
       "    .dataframe thead th {\n",
       "        text-align: right;\n",
       "    }\n",
       "</style>\n",
       "<table border=\"1\" class=\"dataframe\">\n",
       "  <thead>\n",
       "    <tr style=\"text-align: right;\">\n",
       "      <th></th>\n",
       "      <th>duration</th>\n",
       "      <th>leader</th>\n",
       "      <th>follower</th>\n",
       "    </tr>\n",
       "  </thead>\n",
       "  <tbody>\n",
       "    <tr>\n",
       "      <th>count</th>\n",
       "      <td>50.000000</td>\n",
       "      <td>50.000000</td>\n",
       "      <td>50.000000</td>\n",
       "    </tr>\n",
       "    <tr>\n",
       "      <th>mean</th>\n",
       "      <td>89.100000</td>\n",
       "      <td>44.100000</td>\n",
       "      <td>50.980000</td>\n",
       "    </tr>\n",
       "    <tr>\n",
       "      <th>std</th>\n",
       "      <td>116.376281</td>\n",
       "      <td>9.474455</td>\n",
       "      <td>9.485736</td>\n",
       "    </tr>\n",
       "    <tr>\n",
       "      <th>min</th>\n",
       "      <td>24.000000</td>\n",
       "      <td>18.000000</td>\n",
       "      <td>30.000000</td>\n",
       "    </tr>\n",
       "    <tr>\n",
       "      <th>25%</th>\n",
       "      <td>47.250000</td>\n",
       "      <td>40.000000</td>\n",
       "      <td>50.000000</td>\n",
       "    </tr>\n",
       "    <tr>\n",
       "      <th>50%</th>\n",
       "      <td>59.000000</td>\n",
       "      <td>47.500000</td>\n",
       "      <td>50.000000</td>\n",
       "    </tr>\n",
       "    <tr>\n",
       "      <th>75%</th>\n",
       "      <td>77.000000</td>\n",
       "      <td>50.000000</td>\n",
       "      <td>60.000000</td>\n",
       "    </tr>\n",
       "    <tr>\n",
       "      <th>max</th>\n",
       "      <td>772.000000</td>\n",
       "      <td>75.000000</td>\n",
       "      <td>70.000000</td>\n",
       "    </tr>\n",
       "  </tbody>\n",
       "</table>\n",
       "</div>"
      ],
      "text/plain": [
       "         duration     leader   follower\n",
       "count   50.000000  50.000000  50.000000\n",
       "mean    89.100000  44.100000  50.980000\n",
       "std    116.376281   9.474455   9.485736\n",
       "min     24.000000  18.000000  30.000000\n",
       "25%     47.250000  40.000000  50.000000\n",
       "50%     59.000000  47.500000  50.000000\n",
       "75%     77.000000  50.000000  60.000000\n",
       "max    772.000000  75.000000  70.000000"
      ]
     },
     "execution_count": 22,
     "metadata": {},
     "output_type": "execute_result"
    }
   ],
   "source": [
    "moreworkdf.describe()"
   ]
  },
  {
   "cell_type": "code",
   "execution_count": 23,
   "metadata": {},
   "outputs": [
    {
     "data": {
      "text/html": [
       "<div>\n",
       "<style scoped>\n",
       "    .dataframe tbody tr th:only-of-type {\n",
       "        vertical-align: middle;\n",
       "    }\n",
       "\n",
       "    .dataframe tbody tr th {\n",
       "        vertical-align: top;\n",
       "    }\n",
       "\n",
       "    .dataframe thead th {\n",
       "        text-align: right;\n",
       "    }\n",
       "</style>\n",
       "<table border=\"1\" class=\"dataframe\">\n",
       "  <thead>\n",
       "    <tr style=\"text-align: right;\">\n",
       "      <th></th>\n",
       "      <th>duration</th>\n",
       "      <th>leader</th>\n",
       "      <th>follower</th>\n",
       "    </tr>\n",
       "  </thead>\n",
       "  <tbody>\n",
       "    <tr>\n",
       "      <th>count</th>\n",
       "      <td>50.000000</td>\n",
       "      <td>50.000000</td>\n",
       "      <td>50.000000</td>\n",
       "    </tr>\n",
       "    <tr>\n",
       "      <th>mean</th>\n",
       "      <td>75.920000</td>\n",
       "      <td>56.360000</td>\n",
       "      <td>38.740000</td>\n",
       "    </tr>\n",
       "    <tr>\n",
       "      <th>std</th>\n",
       "      <td>58.611777</td>\n",
       "      <td>9.629377</td>\n",
       "      <td>11.401414</td>\n",
       "    </tr>\n",
       "    <tr>\n",
       "      <th>min</th>\n",
       "      <td>27.000000</td>\n",
       "      <td>35.000000</td>\n",
       "      <td>10.000000</td>\n",
       "    </tr>\n",
       "    <tr>\n",
       "      <th>25%</th>\n",
       "      <td>45.000000</td>\n",
       "      <td>50.000000</td>\n",
       "      <td>30.000000</td>\n",
       "    </tr>\n",
       "    <tr>\n",
       "      <th>50%</th>\n",
       "      <td>57.500000</td>\n",
       "      <td>55.500000</td>\n",
       "      <td>40.000000</td>\n",
       "    </tr>\n",
       "    <tr>\n",
       "      <th>75%</th>\n",
       "      <td>80.000000</td>\n",
       "      <td>60.750000</td>\n",
       "      <td>43.000000</td>\n",
       "    </tr>\n",
       "    <tr>\n",
       "      <th>max</th>\n",
       "      <td>277.000000</td>\n",
       "      <td>85.000000</td>\n",
       "      <td>70.000000</td>\n",
       "    </tr>\n",
       "  </tbody>\n",
       "</table>\n",
       "</div>"
      ],
      "text/plain": [
       "         duration     leader   follower\n",
       "count   50.000000  50.000000  50.000000\n",
       "mean    75.920000  56.360000  38.740000\n",
       "std     58.611777   9.629377  11.401414\n",
       "min     27.000000  35.000000  10.000000\n",
       "25%     45.000000  50.000000  30.000000\n",
       "50%     57.500000  55.500000  40.000000\n",
       "75%     80.000000  60.750000  43.000000\n",
       "max    277.000000  85.000000  70.000000"
      ]
     },
     "execution_count": 23,
     "metadata": {},
     "output_type": "execute_result"
    }
   ],
   "source": [
    "lessworkdf.describe()"
   ]
  },
  {
   "cell_type": "code",
   "execution_count": null,
   "metadata": {},
   "outputs": [],
   "source": []
  }
 ],
 "metadata": {
  "kernelspec": {
   "display_name": "Python 3",
   "language": "python",
   "name": "python3"
  },
  "language_info": {
   "codemirror_mode": {
    "name": "ipython",
    "version": 3
   },
   "file_extension": ".py",
   "mimetype": "text/x-python",
   "name": "python",
   "nbconvert_exporter": "python",
   "pygments_lexer": "ipython3",
   "version": "3.6.8"
  }
 },
 "nbformat": 4,
 "nbformat_minor": 4
}
